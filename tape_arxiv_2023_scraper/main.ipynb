{
 "cells": [
  {
   "cell_type": "code",
   "execution_count": 1,
   "metadata": {},
   "outputs": [],
   "source": [
    "from src.load_arxiv_2023 import get_raw_text_arxiv_2023 as load_data\n",
    "\n",
    "data, text = load_data(use_text=True)"
   ]
  },
  {
   "cell_type": "code",
   "execution_count": 2,
   "metadata": {},
   "outputs": [],
   "source": [
    "import pandas as pd\n",
    "\n",
    "\n",
    "def get_text_label(label):\n",
    "    mapping = pd.read_csv('dataset/arxiv_2023/mapping/labelidx2arxivcategeory.csv.gz',\n",
    "                          compression='gzip', header=0, sep=',', quotechar='\"', )\n",
    "    mapping['arxiv category'] = mapping['arxiv category'].apply(\n",
    "        lambda x: 'cs.'+x.split(' ')[-1])\n",
    "    return mapping.iloc[label.item()]['arxiv category']"
   ]
  },
  {
   "cell_type": "code",
   "execution_count": 3,
   "metadata": {},
   "outputs": [
    {
     "name": "stdout",
     "output_type": "stream",
     "text": [
      "# of nodes:  57471\n",
      "# of edges:  122835\n",
      "Node feature shape:  torch.Size([57471, 300])\n"
     ]
    }
   ],
   "source": [
    "print(\"# of nodes: \", data.num_nodes)\n",
    "print(\"# of edges: \", data.num_edges)\n",
    "print(\"Node feature shape: \", data.x.shape)"
   ]
  },
  {
   "cell_type": "code",
   "execution_count": 4,
   "metadata": {},
   "outputs": [
    {
     "name": "stdout",
     "output_type": "stream",
     "text": [
      "Title: Data-CASE: Grounding Data Regulations for Compliant Data Processing Systems\n",
      "Abstract: Data regulations, such as GDPR, are increasingly being adopted globally to protect against unsafe data management practices. Such regulations are, often ambiguous (with multiple valid interpretations) when it comes to defining the expected dynamic behavior of data processing systems. This paper argues that it is possible to represent regulations such as GDPR formally as invariants using a (small set of) data processing concepts that capture system behavior. When such concepts are grounded, i.e., they are provided with a single unambiguous interpretation, systems can achieve compliance by demonstrating that the system-actions they implement maintain the invariants (representing the regulations). To illustrate our vision, we propose Data-CASE, a simple yet powerful model that (a) captures key data processing concepts (b) a set of invariants that describe regulations in terms of these concepts. We further illustrate the concept of grounding using\"deletion\"as an example and highlight several ways in which end-users, companies, and software designers/engineers can use Data-CASE.\n",
      "Category:  cs.db\n"
     ]
    }
   ],
   "source": [
    "print(text[0])\n",
    "print(\"Category: \", get_text_label(data.y[0]))"
   ]
  },
  {
   "cell_type": "code",
   "execution_count": null,
   "metadata": {},
   "outputs": [],
   "source": []
  }
 ],
 "metadata": {
  "kernelspec": {
   "display_name": "TAPE",
   "language": "python",
   "name": "python3"
  },
  "language_info": {
   "codemirror_mode": {
    "name": "ipython",
    "version": 3
   },
   "file_extension": ".py",
   "mimetype": "text/x-python",
   "name": "python",
   "nbconvert_exporter": "python",
   "pygments_lexer": "ipython3",
   "version": "3.8.16"
  },
  "orig_nbformat": 4
 },
 "nbformat": 4,
 "nbformat_minor": 2
}
